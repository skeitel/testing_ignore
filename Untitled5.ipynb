{
 "cells": [
  {
   "cell_type": "markdown",
   "metadata": {},
   "source": [
    "# TI data travel exercise ML and DL"
   ]
  },
  {
   "cell_type": "code",
   "execution_count": 114,
   "metadata": {},
   "outputs": [],
   "source": [
    "#Data comes from survey of UK residents at airport. \n",
    "#Our mission is to be able to predict the destination (\"country\" variable) "
   ]
  },
  {
   "cell_type": "code",
   "execution_count": 115,
   "metadata": {},
   "outputs": [
    {
     "data": {
      "text/html": [
       "<div>\n",
       "<style scoped>\n",
       "    .dataframe tbody tr th:only-of-type {\n",
       "        vertical-align: middle;\n",
       "    }\n",
       "\n",
       "    .dataframe tbody tr th {\n",
       "        vertical-align: top;\n",
       "    }\n",
       "\n",
       "    .dataframe thead th {\n",
       "        text-align: right;\n",
       "    }\n",
       "</style>\n",
       "<table border=\"1\" class=\"dataframe\">\n",
       "  <thead>\n",
       "    <tr style=\"text-align: right;\">\n",
       "      <th></th>\n",
       "      <th>Year</th>\n",
       "      <th>quarter</th>\n",
       "      <th>mode</th>\n",
       "      <th>purpose</th>\n",
       "      <th>package</th>\n",
       "      <th>Age</th>\n",
       "      <th>Sex</th>\n",
       "      <th>duration</th>\n",
       "      <th>Expected spend</th>\n",
       "      <th>country</th>\n",
       "    </tr>\n",
       "  </thead>\n",
       "  <tbody>\n",
       "    <tr>\n",
       "      <th>0</th>\n",
       "      <td>2018</td>\n",
       "      <td>Jan-Mar</td>\n",
       "      <td>Air</td>\n",
       "      <td>Holiday</td>\n",
       "      <td>Independent</td>\n",
       "      <td>0-15</td>\n",
       "      <td>Male</td>\n",
       "      <td>4-13 nights</td>\n",
       "      <td>818.76</td>\n",
       "      <td>Austria</td>\n",
       "    </tr>\n",
       "    <tr>\n",
       "      <th>1</th>\n",
       "      <td>2018</td>\n",
       "      <td>Jan-Mar</td>\n",
       "      <td>Air</td>\n",
       "      <td>Holiday</td>\n",
       "      <td>Independent</td>\n",
       "      <td>16-24</td>\n",
       "      <td>Male</td>\n",
       "      <td>4-13 nights</td>\n",
       "      <td>703.00</td>\n",
       "      <td>Austria</td>\n",
       "    </tr>\n",
       "  </tbody>\n",
       "</table>\n",
       "</div>"
      ],
      "text/plain": [
       "   Year  quarter mode  purpose      package    Age   Sex     duration  \\\n",
       "0  2018  Jan-Mar  Air  Holiday  Independent   0-15  Male  4-13 nights   \n",
       "1  2018  Jan-Mar  Air  Holiday  Independent  16-24  Male  4-13 nights   \n",
       "\n",
       "  Expected spend  country  \n",
       "0         818.76  Austria  \n",
       "1         703.00  Austria  "
      ]
     },
     "execution_count": 115,
     "metadata": {},
     "output_type": "execute_result"
    }
   ],
   "source": [
    "import pandas as pd\n",
    "import numpy as np\n",
    "import matplotlib.pyplot as plt\n",
    "\n",
    "dfI = pd.read_csv(r'D:\\Downloads\\tidatascienceexercise\\input_data.csv', usecols = [0,1,3,4,5,6,7,8,9,10])\n",
    "dfI.head(2)"
   ]
  },
  {
   "cell_type": "code",
   "execution_count": 116,
   "metadata": {},
   "outputs": [
    {
     "data": {
      "text/plain": [
       "Int64Index([], dtype='int64')"
      ]
     },
     "execution_count": 116,
     "metadata": {},
     "output_type": "execute_result"
    }
   ],
   "source": [
    "\n",
    "#We find out the row index of the NaN rows\n",
    "dfI[dfI.isin([np.nan, np.inf, -np.inf]).any(1)].index\n",
    "#Channel islands have the NaN values in spend col!!\n"
   ]
  },
  {
   "cell_type": "code",
   "execution_count": 117,
   "metadata": {},
   "outputs": [],
   "source": [
    "\n",
    "#We drop all rows with NaN in Expected spend (happen to be all the Channel Islands ones)\n",
    "dfI.drop(dfI.index[[1790, 3318, 5522, 7030, 9215, 10931, 12738, 13977, 15936, 17250]], inplace = True)\n"
   ]
  },
  {
   "cell_type": "code",
   "execution_count": 118,
   "metadata": {},
   "outputs": [],
   "source": [
    "\n",
    "#replace all null vals in spend col\n",
    "dfI['Expected spend'].astype(str).replace([np.inf, -np.inf, 'NaN'], np.nan, inplace=True)\n"
   ]
  },
  {
   "cell_type": "code",
   "execution_count": 119,
   "metadata": {},
   "outputs": [
    {
     "data": {
      "text/html": [
       "<div>\n",
       "<style scoped>\n",
       "    .dataframe tbody tr th:only-of-type {\n",
       "        vertical-align: middle;\n",
       "    }\n",
       "\n",
       "    .dataframe tbody tr th {\n",
       "        vertical-align: top;\n",
       "    }\n",
       "\n",
       "    .dataframe thead th {\n",
       "        text-align: right;\n",
       "    }\n",
       "</style>\n",
       "<table border=\"1\" class=\"dataframe\">\n",
       "  <thead>\n",
       "    <tr style=\"text-align: right;\">\n",
       "      <th></th>\n",
       "      <th>Year</th>\n",
       "      <th>quarter</th>\n",
       "      <th>mode</th>\n",
       "      <th>purpose</th>\n",
       "      <th>package</th>\n",
       "      <th>Age</th>\n",
       "      <th>Sex</th>\n",
       "      <th>duration</th>\n",
       "      <th>Expected spend</th>\n",
       "      <th>country</th>\n",
       "    </tr>\n",
       "  </thead>\n",
       "  <tbody>\n",
       "    <tr>\n",
       "      <th>0</th>\n",
       "      <td>2018</td>\n",
       "      <td>Jan-Mar</td>\n",
       "      <td>Air</td>\n",
       "      <td>Holiday</td>\n",
       "      <td>Independent</td>\n",
       "      <td>0-15</td>\n",
       "      <td>Male</td>\n",
       "      <td>4-13 nights</td>\n",
       "      <td>818.76</td>\n",
       "      <td>Austria</td>\n",
       "    </tr>\n",
       "    <tr>\n",
       "      <th>1</th>\n",
       "      <td>2018</td>\n",
       "      <td>Jan-Mar</td>\n",
       "      <td>Air</td>\n",
       "      <td>Holiday</td>\n",
       "      <td>Independent</td>\n",
       "      <td>16-24</td>\n",
       "      <td>Male</td>\n",
       "      <td>4-13 nights</td>\n",
       "      <td>703.00</td>\n",
       "      <td>Austria</td>\n",
       "    </tr>\n",
       "  </tbody>\n",
       "</table>\n",
       "</div>"
      ],
      "text/plain": [
       "   Year  quarter mode  purpose      package    Age   Sex     duration  \\\n",
       "0  2018  Jan-Mar  Air  Holiday  Independent   0-15  Male  4-13 nights   \n",
       "1  2018  Jan-Mar  Air  Holiday  Independent  16-24  Male  4-13 nights   \n",
       "\n",
       "  Expected spend  country  \n",
       "0         818.76  Austria  \n",
       "1         703.00  Austria  "
      ]
     },
     "execution_count": 119,
     "metadata": {},
     "output_type": "execute_result"
    }
   ],
   "source": [
    "dfI.head(2)"
   ]
  },
  {
   "cell_type": "code",
   "execution_count": 120,
   "metadata": {},
   "outputs": [
    {
     "data": {
      "text/html": [
       "<div>\n",
       "<style scoped>\n",
       "    .dataframe tbody tr th:only-of-type {\n",
       "        vertical-align: middle;\n",
       "    }\n",
       "\n",
       "    .dataframe tbody tr th {\n",
       "        vertical-align: top;\n",
       "    }\n",
       "\n",
       "    .dataframe thead th {\n",
       "        text-align: right;\n",
       "    }\n",
       "</style>\n",
       "<table border=\"1\" class=\"dataframe\">\n",
       "  <thead>\n",
       "    <tr style=\"text-align: right;\">\n",
       "      <th></th>\n",
       "      <th>Expected spend</th>\n",
       "      <th>country</th>\n",
       "      <th>duration_14-27 nights</th>\n",
       "      <th>duration_28-90 nights</th>\n",
       "      <th>duration_3-6 months</th>\n",
       "      <th>duration_4-13 nights</th>\n",
       "      <th>duration_6 months-year</th>\n",
       "      <th>duration_Nil Stay</th>\n",
       "      <th>mode_Sea</th>\n",
       "    </tr>\n",
       "  </thead>\n",
       "  <tbody>\n",
       "    <tr>\n",
       "      <th>0</th>\n",
       "      <td>818.76</td>\n",
       "      <td>Austria</td>\n",
       "      <td>0</td>\n",
       "      <td>0</td>\n",
       "      <td>0</td>\n",
       "      <td>1</td>\n",
       "      <td>0</td>\n",
       "      <td>0</td>\n",
       "      <td>0</td>\n",
       "    </tr>\n",
       "    <tr>\n",
       "      <th>1</th>\n",
       "      <td>703.00</td>\n",
       "      <td>Austria</td>\n",
       "      <td>0</td>\n",
       "      <td>0</td>\n",
       "      <td>0</td>\n",
       "      <td>1</td>\n",
       "      <td>0</td>\n",
       "      <td>0</td>\n",
       "      <td>0</td>\n",
       "    </tr>\n",
       "    <tr>\n",
       "      <th>2</th>\n",
       "      <td>106.50</td>\n",
       "      <td>Austria</td>\n",
       "      <td>0</td>\n",
       "      <td>0</td>\n",
       "      <td>0</td>\n",
       "      <td>0</td>\n",
       "      <td>0</td>\n",
       "      <td>0</td>\n",
       "      <td>0</td>\n",
       "    </tr>\n",
       "    <tr>\n",
       "      <th>3</th>\n",
       "      <td>741.60</td>\n",
       "      <td>Austria</td>\n",
       "      <td>0</td>\n",
       "      <td>0</td>\n",
       "      <td>0</td>\n",
       "      <td>1</td>\n",
       "      <td>0</td>\n",
       "      <td>0</td>\n",
       "      <td>0</td>\n",
       "    </tr>\n",
       "    <tr>\n",
       "      <th>4</th>\n",
       "      <td>269.07</td>\n",
       "      <td>Austria</td>\n",
       "      <td>0</td>\n",
       "      <td>0</td>\n",
       "      <td>0</td>\n",
       "      <td>0</td>\n",
       "      <td>0</td>\n",
       "      <td>0</td>\n",
       "      <td>0</td>\n",
       "    </tr>\n",
       "  </tbody>\n",
       "</table>\n",
       "</div>"
      ],
      "text/plain": [
       "  Expected spend  country  duration_14-27 nights  duration_28-90 nights  \\\n",
       "0         818.76  Austria                      0                      0   \n",
       "1         703.00  Austria                      0                      0   \n",
       "2         106.50  Austria                      0                      0   \n",
       "3         741.60  Austria                      0                      0   \n",
       "4         269.07  Austria                      0                      0   \n",
       "\n",
       "   duration_3-6 months  duration_4-13 nights  duration_6 months-year  \\\n",
       "0                    0                     1                       0   \n",
       "1                    0                     1                       0   \n",
       "2                    0                     0                       0   \n",
       "3                    0                     1                       0   \n",
       "4                    0                     0                       0   \n",
       "\n",
       "   duration_Nil Stay  mode_Sea  \n",
       "0                  0         0  \n",
       "1                  0         0  \n",
       "2                  0         0  \n",
       "3                  0         0  \n",
       "4                  0         0  "
      ]
     },
     "execution_count": 120,
     "metadata": {},
     "output_type": "execute_result"
    }
   ],
   "source": [
    "\n",
    "#DROPPING MOST COLS BEFORE ENCODING WITH DUMMIES\n",
    "#Dropping cols to see if this improves accuracy\n",
    "dfI.drop(columns = ['Year', 'quarter', 'purpose', 'package', 'Age', 'Sex'], inplace = True)\n",
    "\n",
    "#Encoding categorical variables\n",
    "dfI = pd.get_dummies(dfI, columns = ['duration', 'mode'], drop_first = True)\n",
    "\n",
    "dfI.drop('mode_Tunnel', axis = 1, inplace = True)\n",
    "\n",
    "dfI.head()\n"
   ]
  },
  {
   "cell_type": "code",
   "execution_count": 121,
   "metadata": {},
   "outputs": [],
   "source": [
    "\n",
    "# #KEEPING ALL COLS BEFORE ENCODING CAT VARS WITH DUMMIES\n",
    "# #Encoding categorical variables\n",
    "# dfI = pd.get_dummies(dfI, columns = ['quarter', 'mode', 'purpose', 'package', 'Age', 'Sex',\n",
    "#        'duration'], drop_first = True)\n",
    "# dfI.head()\n"
   ]
  },
  {
   "cell_type": "code",
   "execution_count": 122,
   "metadata": {},
   "outputs": [
    {
     "data": {
      "text/plain": [
       "Index(['Expected spend', 'country', 'duration_14-27 nights',\n",
       "       'duration_28-90 nights', 'duration_3-6 months', 'duration_4-13 nights',\n",
       "       'duration_6 months-year', 'duration_Nil Stay', 'mode_Sea'],\n",
       "      dtype='object')"
      ]
     },
     "execution_count": 122,
     "metadata": {},
     "output_type": "execute_result"
    }
   ],
   "source": [
    "dfI.columns"
   ]
  },
  {
   "cell_type": "code",
   "execution_count": 123,
   "metadata": {},
   "outputs": [],
   "source": [
    "#NOTES AND THINGS TO TRY LATER\n",
    "#https://www.youtube.com/watch?v=75OJvlhFUMY&list=PLZoTAELRMXVOnN_g96ayzXX5i7RRO0QhL&index=54\n",
    "\n",
    "#Turn spend col to numeric\n",
    "dfI['Expected spend'] = pd.to_numeric(dfI['Expected spend'], errors = 'coerce')\n",
    "\n",
    "# #Simple imputer for spend column\n",
    "# from sklearn.impute import SimpleImputer\n",
    "# imp_mean = SimpleImputer(missing_values = '#Null!', fill_value = 0, strategy = 'mean')\n",
    "# imp_mean.fit([dfI['Expected spend']])\n",
    "\n",
    "# imp_other = SimpleImputer(missing_values = NaN, fill_value = 0, strategy = 'mean')\n",
    "# imp_other.fit([dfI['Expected spend']])\n",
    "\n",
    "\n",
    "#Scaling expenditure column\n",
    "from sklearn.preprocessing import StandardScaler\n",
    "sc = StandardScaler()\n",
    "#Scale spend column\n",
    "cols_to_scale = ['Expected spend']\n",
    "dfI[cols_to_scale] = sc.fit_transform(dfI[cols_to_scale])\n",
    "\n"
   ]
  },
  {
   "cell_type": "code",
   "execution_count": 124,
   "metadata": {},
   "outputs": [
    {
     "data": {
      "text/plain": [
       "array([ 1,  1,  1, ..., 55, 42, 27])"
      ]
     },
     "execution_count": 124,
     "metadata": {},
     "output_type": "execute_result"
    }
   ],
   "source": [
    "######################################################################################\n",
    "#Before we can continue we must label encode the y variable\n",
    "\n",
    "from sklearn.preprocessing import LabelEncoder\n",
    "le = LabelEncoder()\n",
    "le.fit(dfI['country'])\n",
    "y = le.transform(dfI['country'])\n",
    "y\n",
    "\n",
    "#display(list(le.classes_))\n",
    "\n",
    "#Testing random labels to use them later for identification of predicted classes\n",
    "#We make sure we can identify countries back from the numbers that the model will output\n",
    "\n",
    "#list(le.inverse_transform([1, 5, 21, 34]))\n",
    "\n",
    "######################################################################################"
   ]
  },
  {
   "cell_type": "code",
   "execution_count": 125,
   "metadata": {},
   "outputs": [],
   "source": [
    "#Defining X and y\n",
    "X = dfI.drop(['country'], 1)\n",
    "y = y\n"
   ]
  },
  {
   "cell_type": "code",
   "execution_count": 126,
   "metadata": {},
   "outputs": [],
   "source": [
    "#Train test split\n",
    "from sklearn.model_selection import train_test_split\n",
    "X_train, X_test, y_train, y_test = train_test_split(X, y, test_size = .25)\n"
   ]
  },
  {
   "cell_type": "markdown",
   "metadata": {},
   "source": [
    "### Getting accuracy score"
   ]
  },
  {
   "cell_type": "code",
   "execution_count": 127,
   "metadata": {},
   "outputs": [
    {
     "data": {
      "text/html": [
       "<div>\n",
       "<style scoped>\n",
       "    .dataframe tbody tr th:only-of-type {\n",
       "        vertical-align: middle;\n",
       "    }\n",
       "\n",
       "    .dataframe tbody tr th {\n",
       "        vertical-align: top;\n",
       "    }\n",
       "\n",
       "    .dataframe thead th {\n",
       "        text-align: right;\n",
       "    }\n",
       "</style>\n",
       "<table border=\"1\" class=\"dataframe\">\n",
       "  <thead>\n",
       "    <tr style=\"text-align: right;\">\n",
       "      <th></th>\n",
       "      <th>Expected spend</th>\n",
       "      <th>country</th>\n",
       "      <th>duration_14-27 nights</th>\n",
       "      <th>duration_28-90 nights</th>\n",
       "      <th>duration_3-6 months</th>\n",
       "      <th>duration_4-13 nights</th>\n",
       "      <th>duration_6 months-year</th>\n",
       "      <th>duration_Nil Stay</th>\n",
       "      <th>mode_Sea</th>\n",
       "    </tr>\n",
       "  </thead>\n",
       "  <tbody>\n",
       "    <tr>\n",
       "      <th>0</th>\n",
       "      <td>0.092719</td>\n",
       "      <td>Austria</td>\n",
       "      <td>0</td>\n",
       "      <td>0</td>\n",
       "      <td>0</td>\n",
       "      <td>1</td>\n",
       "      <td>0</td>\n",
       "      <td>0</td>\n",
       "      <td>0</td>\n",
       "    </tr>\n",
       "    <tr>\n",
       "      <th>1</th>\n",
       "      <td>-0.001547</td>\n",
       "      <td>Austria</td>\n",
       "      <td>0</td>\n",
       "      <td>0</td>\n",
       "      <td>0</td>\n",
       "      <td>1</td>\n",
       "      <td>0</td>\n",
       "      <td>0</td>\n",
       "      <td>0</td>\n",
       "    </tr>\n",
       "  </tbody>\n",
       "</table>\n",
       "</div>"
      ],
      "text/plain": [
       "   Expected spend  country  duration_14-27 nights  duration_28-90 nights  \\\n",
       "0        0.092719  Austria                      0                      0   \n",
       "1       -0.001547  Austria                      0                      0   \n",
       "\n",
       "   duration_3-6 months  duration_4-13 nights  duration_6 months-year  \\\n",
       "0                    0                     1                       0   \n",
       "1                    0                     1                       0   \n",
       "\n",
       "   duration_Nil Stay  mode_Sea  \n",
       "0                  0         0  \n",
       "1                  0         0  "
      ]
     },
     "execution_count": 127,
     "metadata": {},
     "output_type": "execute_result"
    }
   ],
   "source": [
    "dfI.head(2)"
   ]
  },
  {
   "cell_type": "code",
   "execution_count": 128,
   "metadata": {},
   "outputs": [
    {
     "data": {
      "text/plain": [
       "0.12316122384647979"
      ]
     },
     "execution_count": 128,
     "metadata": {},
     "output_type": "execute_result"
    }
   ],
   "source": [
    "from sklearn.neighbors import KNeighborsClassifier\n",
    "from sklearn.model_selection import cross_val_score\n",
    "\n",
    "KNN = KNeighborsClassifier(n_neighbors = 500)\n",
    "KNN.fit(X_train, y_train)\n",
    "score = cross_val_score(KNN, X, y, cv = 5, scoring = 'accuracy').mean()\n",
    "score"
   ]
  },
  {
   "cell_type": "code",
   "execution_count": null,
   "metadata": {},
   "outputs": [],
   "source": []
  },
  {
   "cell_type": "code",
   "execution_count": null,
   "metadata": {},
   "outputs": [],
   "source": []
  },
  {
   "cell_type": "code",
   "execution_count": 145,
   "metadata": {},
   "outputs": [
    {
     "name": "stderr",
     "output_type": "stream",
     "text": [
      "D:\\Anaconda\\lib\\site-packages\\sklearn\\model_selection\\_search.py:266: UserWarning: The total space of parameters 6 is smaller than n_iter=10. Running 6 iterations. For exhaustive searches, use GridSearchCV.\n",
      "  % (grid_size, self.n_iter, grid_size), UserWarning)\n",
      "[Parallel(n_jobs=1)]: Using backend SequentialBackend with 1 concurrent workers.\n"
     ]
    },
    {
     "name": "stdout",
     "output_type": "stream",
     "text": [
      "Fitting 5 folds for each of 6 candidates, totalling 30 fits\n"
     ]
    },
    {
     "name": "stderr",
     "output_type": "stream",
     "text": [
      "[Parallel(n_jobs=1)]: Done  30 out of  30 | elapsed:  2.5min finished\n"
     ]
    },
    {
     "data": {
      "text/plain": [
       "KNeighborsClassifier(algorithm='auto', leaf_size=90, metric='minkowski',\n",
       "                     metric_params=None, n_jobs=None, n_neighbors=750, p=2,\n",
       "                     weights='uniform')"
      ]
     },
     "metadata": {},
     "output_type": "display_data"
    },
    {
     "data": {
      "text/plain": [
       "{'n_neighbors': 750, 'algorithm': 'auto'}"
      ]
     },
     "metadata": {},
     "output_type": "display_data"
    }
   ],
   "source": [
    "#Randomized Search CV\n",
    "\n",
    "params = {\n",
    "    'n_neighbors' : [750, 1000, 1250],  \n",
    "    'algorithm' : ['auto', 'ball_tree']\n",
    "}\n",
    "\n",
    "from sklearn.model_selection import RandomizedSearchCV, GridSearchCV\n",
    "random_search = RandomizedSearchCV(KNN, param_distributions = params, scoring = 'accuracy', cv = 5, verbose = 1)\n",
    "\n",
    "random_search.fit(X, y)\n",
    "\n",
    "display(random_search.best_estimator_, random_search.best_params_)"
   ]
  },
  {
   "cell_type": "code",
   "execution_count": 144,
   "metadata": {},
   "outputs": [
    {
     "data": {
      "text/plain": [
       "0.12408117153079438"
      ]
     },
     "execution_count": 144,
     "metadata": {},
     "output_type": "execute_result"
    }
   ],
   "source": [
    "KNN = KNeighborsClassifier(algorithm='auto', leaf_size=90, metric='minkowski',\n",
    "                     metric_params=None, n_jobs=None, n_neighbors=750, p=2,\n",
    "                     weights='uniform')\n",
    "KNN.fit(X_train, y_train)\n",
    "score = cross_val_score(KNN, X, y, cv = 5, scoring = 'accuracy').mean()\n",
    "score"
   ]
  },
  {
   "cell_type": "code",
   "execution_count": null,
   "metadata": {},
   "outputs": [],
   "source": [
    "# from sklearn.model_selection import train_test_split\n",
    "# from sklearn.model_selection import cross_val_score\n",
    "\n",
    "# X_train, X_test, y_train, y_test = train_test_split(X,y,test_size = .25)\n",
    "\n",
    "# from sklearn.neighbors import KNeighborsClassifier\n",
    "# KNN = KNeighborsClassifier()\n",
    "# KNN.fit(X_train, y_train)\n",
    "# score = cross_val_score(KNN, X_test, y_test, cv = 5, scoring = 'accuracy').mean()\n",
    "# score"
   ]
  },
  {
   "cell_type": "code",
   "execution_count": null,
   "metadata": {},
   "outputs": [],
   "source": []
  },
  {
   "cell_type": "markdown",
   "metadata": {},
   "source": [
    "## Testing feature selection (did not improve acc much)"
   ]
  },
  {
   "cell_type": "code",
   "execution_count": null,
   "metadata": {},
   "outputs": [],
   "source": [
    "#FEATURE SELECTION USING EXTRA TREES CLASSIFIER\n",
    "\n",
    "# from sklearn.ensemble import ExtraTreesClassifier\n",
    "# model = ExtraTreesClassifier()\n",
    "# model.fit(X,y)\n",
    "# print(model.feature_importances_)\n",
    "# feat_importances = pd.Series(model.feature_importances_, index = dfI.drop(['country'], 1).columns)\n",
    "# feat_importances.nlargest(10).plot(kind = 'barh')\n",
    "# plt.show()\n"
   ]
  },
  {
   "cell_type": "code",
   "execution_count": null,
   "metadata": {},
   "outputs": [],
   "source": [
    "# import seaborn as sns\n",
    "# sns.set()\n",
    "# #CORRELATION HEATMAP\n",
    "# plt.figure(figsize = (25,15))\n",
    "# sns.heatmap(dfI.corr(), annot = True); plt.show()\n"
   ]
  },
  {
   "cell_type": "code",
   "execution_count": null,
   "metadata": {},
   "outputs": [],
   "source": [
    "# #FEATURE SELECTION USING LASSOCV\n",
    "# from sklearn.linear_model import LassoCV\n",
    "# modellasso = LassoCV(cv = 5).fit(X, np.ravel(y))\n",
    "# pd.Series(modellasso.coef_, index = dfI.drop(['country'], 1).columns).sort_values().plot(kind = \"barh\"); plt.show()\n"
   ]
  },
  {
   "cell_type": "markdown",
   "metadata": {},
   "source": [
    "## Testing different ML models"
   ]
  },
  {
   "cell_type": "code",
   "execution_count": null,
   "metadata": {},
   "outputs": [],
   "source": [
    "lksdjlf\n",
    "#MULTI-MODEL TEST\n",
    "\n",
    "from sklearn import linear_model\n",
    "from sklearn.tree import DecisionTreeClassifier\n",
    "from sklearn.discriminant_analysis import LinearDiscriminantAnalysis\n",
    "from sklearn.svm import SVC\n",
    "from sklearn.svm import LinearSVC\n",
    "from sklearn.ensemble import RandomForestClassifier\n",
    "\n",
    "from sklearn.linear_model import LogisticRegression\n",
    "from sklearn.neighbors import KNeighborsClassifier\n",
    "from sklearn.naive_bayes import GaussianNB\n",
    "from sklearn.tree import DecisionTreeRegressor\n",
    "\n",
    "from sklearn import model_selection\n",
    "\n",
    "# Prepare an array with all the algorithms\n",
    "models = []\n",
    "models.append(('CART', DecisionTreeClassifier()))\n",
    "models.append(('KNN', KNeighborsClassifier()))\n",
    "models.append(('LDA', LinearDiscriminantAnalysis()))\n",
    "#models.append(('LSVC', LinearSVC()))\n",
    "models.append(('NB', GaussianNB()))\n",
    "models.append(('RFC', RandomForestClassifier()))\n",
    "models.append(('SVM', SVC(gamma = 'auto')))\n",
    "\n",
    "#REGRESSION ALGORITHMS\n",
    "#models.append(('LR', LogisticRegression(multi_class = 'auto', solver = 'lbfgs')))\n",
    "# models.append(('DTR', DecisionTreeRegressor()))\n",
    "# models.append(('SGDRegressor', linear_model.SGDRegressor())) \n",
    "# models.append(('BayesianRidge', linear_model.BayesianRidge()))\n",
    "# models.append(('LassoLars', linear_model.LassoLars())) \n",
    "# models.append(('ARDRegression', linear_model.ARDRegression())) \n",
    "# models.append(('PassiveAggressiveRegressor', linear_model.PassiveAggressiveRegressor())) \n",
    "# models.append(('TheilSenRegressor', linear_model.TheilSenRegressor()))\n",
    "# models.append(('LinearRegression', linear_model.LinearRegression())) \n",
    "\n",
    "\n",
    "from sklearn.model_selection import train_test_split\n",
    "from sklearn.model_selection import KFold\n",
    "from sklearn.model_selection import GridSearchCV\n",
    "num_folds = 3\n",
    "scoring = 'accuracy'\n",
    "\n",
    "# Prepare the configuration to run the test\n",
    "seed = 7\n",
    "results = []\n",
    "names = []\n",
    "# X = train_set_scaled\n",
    "# y = train_set_labels\n",
    "\n",
    "# Every algorithm is tested and results are\n",
    "# collected and printed\n",
    "for name, model in models:\n",
    "    kfold = KFold(\n",
    "        n_splits=5, random_state=seed)\n",
    "    cv_results = cross_val_score(\n",
    "        model, X, y, cv=kfold, scoring='accuracy')\n",
    "    results.append(cv_results)\n",
    "    names.append(name)\n",
    "    msg = \"%s: %f (%f)\" % (\n",
    "        name, cv_results.mean(), cv_results.std())\n",
    "    print(msg)\n",
    "    \n",
    "    \n",
    "# boxplot algorithm comparison\n",
    "fig = plt.figure()\n",
    "fig.suptitle('Algorithm Comparison')\n",
    "ax = fig.add_subplot(111)\n",
    "plt.boxplot(results)\n",
    "ax.set_xticklabels(names)\n",
    "plt.show()\n",
    "\n",
    "# #ONCE CHOSEN THE ALGORITHM, WE DO SCALING, PARAM GRID K FOLD AND GRID SEARCH #################\n",
    "# # Build a scaler\n",
    "# scaler = StandardScaler().fit(X_train)\n",
    "# rescaledX = scaler.transform(X_train)\n",
    "\n",
    "# # Build parameter grid\n",
    "# c_values = [0.1, 0.3, 0.5, 0.7, 0.9, 1.0, 1.3, 1.5, 1.7, 2.0]\n",
    "# kernel_values = ['linear', 'poly', 'rbf', 'sigmoid']\n",
    "# param_grid = dict(C=c_values, kernel=kernel_values)\n",
    "\n",
    "# # Build the model\n",
    "# model = SVC()\n",
    "# kfold = KFold(n_splits = num_folds, random_state = seed)\n",
    "# grid = GridSearchCV(estimator = model, param_grid = param_grid, scoring = scoring, cv = kfold)\n",
    "# grid_result = grid.fit(rescaledX, y_train)\n",
    "\n",
    "# # Show the results\n",
    "# print(\"Best: %f using %s\" % (grid_result.best_score_, grid_result.best_params_))\n",
    "# means = grid_result.cv_results_['mean_test_score']\n",
    "# stds = grid_result.cv_results_['std_test_score']\n",
    "# params = grid_result.cv_results_['params']\n",
    "\n",
    "# for mean, stdev, param in zip(means, stds, params):\n",
    "#     print(\"%f (%f) with: %r\" % (mean, stdev, param))\n"
   ]
  },
  {
   "cell_type": "code",
   "execution_count": null,
   "metadata": {},
   "outputs": [],
   "source": []
  },
  {
   "cell_type": "markdown",
   "metadata": {},
   "source": [
    "## Testing a Keras NN on the same data"
   ]
  },
  {
   "cell_type": "code",
   "execution_count": null,
   "metadata": {},
   "outputs": [],
   "source": [
    "### KERAS NEURAL NETWORK TEST\n",
    "import tensorflow as tf\n",
    "import matplotlib.pyplot as plt\n",
    "\n",
    "X_train = tf.keras.utils.normalize(X_train.values, axis = 1)\n",
    "X_test = tf.keras.utils.normalize(X_test.values, axis = 1)\n",
    "\n",
    "model = tf.keras.models.Sequential()\n",
    "\n",
    "model.add(tf.keras.layers.Flatten())\n",
    "model.add(tf.keras.layers.Dense(128, activation = tf.nn.relu))\n",
    "model.add(tf.keras.layers.Dropout(.25))\n",
    "model.add(tf.keras.layers.Dense(128, activation = tf.nn.relu))\n",
    "model.add(tf.keras.layers.Dropout(.25))\n",
    "model.add(tf.keras.layers.Dense(61, activation = tf.nn.softmax))\n",
    "\n",
    "model.compile(optimizer = 'adam',\n",
    "             loss = 'sparse_categorical_crossentropy', \n",
    "             metrics = ['accuracy']) \n",
    "\n",
    "model.fit(X_train, y_train, epochs = 5)\n",
    "\n",
    "val_loss, val_acc = model.evaluate(X_test, y_test)\n",
    "\n",
    "print('..............\\n')\n",
    "print('val_loss (loss) is:')\n",
    "print(val_loss)\n",
    "print('val_acc (accuracy) is:')\n",
    "print(val_acc)\n"
   ]
  }
 ],
 "metadata": {
  "kernelspec": {
   "display_name": "Python 3",
   "language": "python",
   "name": "python3"
  },
  "language_info": {
   "codemirror_mode": {
    "name": "ipython",
    "version": 3
   },
   "file_extension": ".py",
   "mimetype": "text/x-python",
   "name": "python",
   "nbconvert_exporter": "python",
   "pygments_lexer": "ipython3",
   "version": "3.7.5"
  }
 },
 "nbformat": 4,
 "nbformat_minor": 2
}
